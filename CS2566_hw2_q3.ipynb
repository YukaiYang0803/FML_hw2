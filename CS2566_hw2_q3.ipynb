{
 "cells": [
  {
   "cell_type": "markdown",
   "metadata": {},
   "source": [
    "# Download and Install necessary files and packages"
   ]
  },
  {
   "cell_type": "code",
   "execution_count": 1,
   "metadata": {},
   "outputs": [],
   "source": [
    "!rm -r Index\n",
    "!rm -r abalone.data\n",
    "!rm -r abalone.names"
   ]
  },
  {
   "cell_type": "code",
   "execution_count": 2,
   "metadata": {},
   "outputs": [
    {
     "name": "stdout",
     "output_type": "stream",
     "text": [
      "--2022-03-21 10:53:43--  http://archive.ics.uci.edu/ml/machine-learning-databases/abalone/abalone.data\n",
      "Resolving archive.ics.uci.edu... 128.195.10.252\n",
      "Connecting to archive.ics.uci.edu|128.195.10.252|:80... connected.\n",
      "HTTP request sent, awaiting response... 200 OK\n",
      "Length: 191873 (187K) [application/x-httpd-php]\n",
      "Saving to: 'abalone.data'\n",
      "\n",
      "abalone.data        100%[===================>] 187.38K   620KB/s    in 0.3s    \n",
      "\n",
      "2022-03-21 10:53:43 (620 KB/s) - 'abalone.data' saved [191873/191873]\n",
      "\n",
      "--2022-03-21 10:53:43--  http://archive.ics.uci.edu/ml/machine-learning-databases/abalone/Index\n",
      "Resolving archive.ics.uci.edu... 128.195.10.252\n",
      "Connecting to archive.ics.uci.edu|128.195.10.252|:80... connected.\n",
      "HTTP request sent, awaiting response... 200 OK\n",
      "Length: 114 [application/x-httpd-php]\n",
      "Saving to: 'Index'\n",
      "\n",
      "Index               100%[===================>]     114  --.-KB/s    in 0s      \n",
      "\n",
      "2022-03-21 10:53:44 (9.06 MB/s) - 'Index' saved [114/114]\n",
      "\n",
      "--2022-03-21 10:53:44--  http://archive.ics.uci.edu/ml/machine-learning-databases/abalone/abalone.names\n",
      "Resolving archive.ics.uci.edu... 128.195.10.252\n",
      "Connecting to archive.ics.uci.edu|128.195.10.252|:80... connected.\n",
      "HTTP request sent, awaiting response... 200 OK\n",
      "Length: 4319 (4.2K) [application/x-httpd-php]\n",
      "Saving to: 'abalone.names'\n",
      "\n",
      "abalone.names       100%[===================>]   4.22K  --.-KB/s    in 0s      \n",
      "\n",
      "2022-03-21 10:53:44 (79.2 MB/s) - 'abalone.names' saved [4319/4319]\n",
      "\n"
     ]
    }
   ],
   "source": [
    "!wget http://archive.ics.uci.edu/ml/machine-learning-databases/abalone/abalone.data\n",
    "!wget http://archive.ics.uci.edu/ml/machine-learning-databases/abalone/Index\n",
    "!wget http://archive.ics.uci.edu/ml/machine-learning-databases/abalone/abalone.names"
   ]
  },
  {
   "cell_type": "code",
   "execution_count": 3,
   "metadata": {},
   "outputs": [
    {
     "name": "stdout",
     "output_type": "stream",
     "text": [
      "Requirement already up-to-date: libsvm-official in /opt/anaconda3/lib/python3.8/site-packages (3.25.0)\r\n",
      "Requirement already satisfied, skipping upgrade: scipy in /opt/anaconda3/lib/python3.8/site-packages (from libsvm-official) (1.5.0)\r\n",
      "Requirement already satisfied, skipping upgrade: numpy>=1.14.5 in /opt/anaconda3/lib/python3.8/site-packages (from scipy->libsvm-official) (1.19.5)\r\n"
     ]
    }
   ],
   "source": [
    "!pip install -U libsvm-official"
   ]
  },
  {
   "cell_type": "markdown",
   "metadata": {},
   "source": [
    "# Import packages"
   ]
  },
  {
   "cell_type": "code",
   "execution_count": 4,
   "metadata": {},
   "outputs": [],
   "source": [
    "from libsvm.svmutil import *;\n",
    "from commonutil import csr_find_scale_param, csr_scale;\n",
    "from scipy import sparse;"
   ]
  },
  {
   "cell_type": "code",
   "execution_count": 5,
   "metadata": {},
   "outputs": [],
   "source": [
    "import numpy as np;\n",
    "#import pandas as pd;\n",
    "import matplotlib.pyplot as plt;\n",
    "from IPython.display import clear_output;"
   ]
  },
  {
   "cell_type": "markdown",
   "metadata": {},
   "source": [
    "# Data Pre-processing: scale the data"
   ]
  },
  {
   "cell_type": "code",
   "execution_count": 6,
   "metadata": {},
   "outputs": [],
   "source": [
    "# Set the one-hot encoding method\n",
    "sex_encoder = {\"M\": [\"0\", \"0\", \"1\"], \"F\": [\"1\", \"0\", \"0\"], \"I\": [\"0\", \"1\", \"0\"]};\n",
    "dataset, train_size, train_file, test_file =  \"abalone.data\", 3133, \"abalone_train.txt\", \"abalone_test.txt\";\n",
    "dataset = open(dataset);\n",
    "train_file = open(train_file,'w');\n",
    "test_file = open(test_file,'w');\n",
    "\n",
    "i = 0\n",
    "while i < 4177:\n",
    "    line = dataset.readline().split(\",\")\n",
    "    # Convert the multi-class problem into a binary class one\n",
    "    if 1 <= int(line[-1]) <=9:\n",
    "        line[-1] = \"1\"\n",
    "    else:\n",
    "        line[-1] = \"0\"\n",
    "    line = sex_encoder[line[0]] + line[1:]\n",
    "    # Write the pre-processed data into new files\n",
    "    if i < train_size:\n",
    "        train_file.write(','.join(line)+'\\n')\n",
    "    else:\n",
    "        test_file.write(','.join(line)+'\\n')\n",
    "    i += 1\n",
    "train_file.close()\n",
    "test_file.close()\n",
    "dataset.close()"
   ]
  },
  {
   "cell_type": "code",
   "execution_count": 7,
   "metadata": {},
   "outputs": [],
   "source": [
    "train_file, test_file = \"abalone_train.txt\", \"abalone_test.txt\"\n",
    "\n",
    "x_train = sparse.csr_matrix(np.loadtxt(train_file, delimiter=\",\"))\n",
    "x_test = sparse.csr_matrix(np.loadtxt(test_file, delimiter=\",\"))\n",
    "\n",
    "#print(x_train.shape, x_test.shape)\n",
    "for i in range(x_train.shape[1]-1):\n",
    "    param = csr_find_scale_param(x_train[:, i], lower=0)\n",
    "    x_train[:, i] = csr_scale(x_train[:, i], param)\n",
    "    x_test[:, i] = csr_scale(x_test[:, i], param)\n",
    "\n",
    "#print(x_train)\n",
    "np.savetxt(train_file.replace('.txt', '_scaled.txt'), x_train.toarray(), delimiter=',')\n",
    "np.savetxt(test_file.replace('.txt', '_scaled.txt'), x_test.toarray(), delimiter=',')"
   ]
  },
  {
   "cell_type": "code",
   "execution_count": 8,
   "metadata": {},
   "outputs": [],
   "source": [
    "train_file, test_file = \"abalone_train_scaled.txt\", \"abalone_test_scaled.txt\"\n",
    "\n",
    "train = sparse.csr_matrix(np.loadtxt(train_file, delimiter=\",\"))\n",
    "test = sparse.csr_matrix(np.loadtxt(test_file, delimiter=\",\"))\n",
    "\n",
    "m = train.shape[0]  #3133\n",
    "x_dim = train.shape[1] - 1  #10\n",
    "x_train, y_train = train[:, :x_dim].toarray(), train[:, x_dim].toarray().squeeze()\n",
    "x_test, y_test = test[:, :x_dim].toarray(), test[:, x_dim].toarray().squeeze()"
   ]
  },
  {
   "cell_type": "markdown",
   "metadata": {},
   "source": [
    "# Set the hyperparameter we want to tune with"
   ]
  },
  {
   "cell_type": "code",
   "execution_count": 9,
   "metadata": {},
   "outputs": [],
   "source": [
    "log3c_range=10;\n",
    "n_fold=5;\n",
    "poly_d=5;\n",
    "_t=\"1\";"
   ]
  },
  {
   "cell_type": "markdown",
   "metadata": {},
   "source": [
    "# Start training!\n",
    "## Question 3"
   ]
  },
  {
   "cell_type": "code",
   "execution_count": 10,
   "metadata": {},
   "outputs": [
    {
     "name": "stdout",
     "output_type": "stream",
     "text": [
      "(C,d) = (3^10, 5)\t\n",
      "Accuracy = 78.754% (493/626) (classification)\n",
      "Accuracy = 79.5853% (499/627) (classification)\n",
      "Accuracy = 80.1917% (502/626) (classification)\n",
      "Accuracy = 78.4689% (492/627) (classification)\n",
      "Accuracy = 79.9043% (501/627) (classification)\n"
     ]
    }
   ],
   "source": [
    "train_cverror_lst = np.ones((poly_d, 2 * log3c_range + 1, n_fold))\n",
    "for d in range(1, poly_d+1):\n",
    "    '''\n",
    "    if task == \"0\":\n",
    "        x_train_matrix = np.power(np.dot(x_train, (np.repeat(y_train.reshape(-1, 1), x_dim, axis=1) * x_train).transpose()), d)\n",
    "        x_test_matrix = np.power(np.dot(x_test, (np.repeat(y_train.reshape(-1, 1), x_dim, axis=1) * x_train).transpose()), d)\n",
    "        x_train_matrix, x_test_matrix = sparse.csr_matrix(x_train_matrix), sparse.csr_matrix(x_test_matrix)\n",
    "    else:\n",
    "        x_train_matrix, x_test_matrix = x_train, x_test\n",
    "    '''\n",
    "    x_train_matrix, x_test_matrix = x_train, x_test;\n",
    "    for log3c in range(-log3c_range, log3c_range+1):\n",
    "        print(\"(C,d) = (3^%s, %s)\\t\" % (log3c, d))\n",
    "        # Shuffle the data\n",
    "        indexList = np.arange(m)\n",
    "        np.random.shuffle(indexList)\n",
    "        x_train_shuffle, y_train_shuffle = x_train_matrix[indexList, :], y_train[indexList]\n",
    "        for f in range(n_fold):\n",
    "            i1, i2 = m * f // n_fold, m * (f + 1) // n_fold\n",
    "            # Cross validation\n",
    "            val_X, val_y = x_train_shuffle[i1:i2, :], y_train_shuffle[i1:i2]\n",
    "            # train using the rest f-1 folds\n",
    "            train_X = sparse.vstack([x_train_shuffle[:i1, :], x_train_shuffle[i2:, :]]).toarray()\n",
    "            train_y = np.hstack([y_train_shuffle[:i1], y_train_shuffle[i2:]])\n",
    "            # Train SVM\n",
    "            model = svm_train(train_y, train_X, \"-c %s -t %s -d %s -q\" % (3**log3c, _t, d))\n",
    "            eval_predy, eval_stats, eval_predval = svm_predict(val_y, val_X, model)\n",
    "            # Predict using SVM and get classification error\n",
    "            train_cverror_lst[d-1][log3c+log3c_range][f] = eval_stats[1]\n",
    "        clear_output(wait=True);"
   ]
  },
  {
   "cell_type": "markdown",
   "metadata": {},
   "source": [
    "## Question 4"
   ]
  },
  {
   "cell_type": "code",
   "execution_count": 11,
   "metadata": {},
   "outputs": [
    {
     "name": "stdout",
     "output_type": "stream",
     "text": [
      "----------------------\n",
      " Best (C,d) = (59049, 2)\n",
      " ----------------------\n",
      "\n",
      "Now train with the best C=C* and predict with the test set\n",
      "\n",
      "Accuracy = 77.9693% (814/1044) (classification)\n",
      "Accuracy = 79.3103% (828/1044) (classification)\n",
      "Accuracy = 78.2567% (817/1044) (classification)\n",
      "Accuracy = 77.8736% (813/1044) (classification)\n",
      "Accuracy = 77.4904% (809/1044) (classification)\n"
     ]
    }
   ],
   "source": [
    "# find the pair (C,d) that gives smallest error\n",
    "train_cverror_mean, train_cverror_std = train_cverror_lst.mean(axis=2), train_cverror_lst.std(axis=2)\n",
    "argmin = train_cverror_mean.flatten().argmin()\n",
    "best_log3c, best_d = int(argmin)%(2*log3c_range+1)-log3c_range, int(argmin)//(2*log3c_range+1)+1\n",
    "best_C = 3 ** best_log3c\n",
    "print(\"----------------------\\n\",\"Best (C,d) = (%s, %s)\\n\"%(best_C, best_d), \"----------------------\\n\")\n",
    "bestc_train_cverror = train_cverror_mean[:, best_log3c+log3c_range]\n",
    "\n",
    "print('Now train with the best C=C* and predict with the test set\\n')\n",
    "bestc_test_error = np.zeros([poly_d, 1])\n",
    "sv_num = np.zeros([poly_d, 1])\n",
    "for d in range(1, poly_d + 1):\n",
    "    '''\n",
    "    if task == \"0\":\n",
    "        x_train_matrix = np.power(np.dot(x_train, (np.repeat(y_train.reshape(-1, 1), x_dim, axis=1) * x_train).transpose()), d)\n",
    "        x_test_matrix = np.power(np.dot(x_test, (np.repeat(y_train.reshape(-1, 1), x_dim, axis=1) * x_train).transpose()), d)\n",
    "        x_train_matrix, x_test_matrix = sparse.csr_matrix(x_train_matrix), sparse.csr_matrix(x_test_matrix)\n",
    "    else:\n",
    "        x_train_matrix, x_test_matrix = x_train, x_test\n",
    "    '''\n",
    "    x_train_matrix, x_test_matrix = x_train, x_test\n",
    "    \n",
    "\n",
    "    # Train on the whole training data\n",
    "    model = svm_train(y_train, x_train_matrix, \" -c %s -t %s -d %s \" % (best_C, _t, d))\n",
    "    # Test on the testing data\n",
    "    test_predy, test_stats, test_predval = svm_predict(y_test, x_test_matrix, model)\n",
    "    # Get the metrics\n",
    "    bestc_test_error[d-1] = test_stats[1]\n",
    "    sv_num[d-1] = model.get_nr_sv()"
   ]
  },
  {
   "cell_type": "code",
   "execution_count": 12,
   "metadata": {},
   "outputs": [
    {
     "name": "stdout",
     "output_type": "stream",
     "text": [
      "[0.20267413 0.19565862 0.19949198 0.20300024 0.20619156]\n",
      "[[0.22030651]\n",
      " [0.20689655]\n",
      " [0.21743295]\n",
      " [0.22126437]\n",
      " [0.22509579]]\n",
      "[[1519.]\n",
      " [1453.]\n",
      " [1465.]\n",
      " [1503.]\n",
      " [1556.]]\n"
     ]
    }
   ],
   "source": [
    "print(bestc_train_cverror)\n",
    "print(bestc_test_error)\n",
    "print(sv_num)"
   ]
  },
  {
   "cell_type": "markdown",
   "metadata": {},
   "source": [
    "## Question 5"
   ]
  },
  {
   "cell_type": "code",
   "execution_count": 13,
   "metadata": {},
   "outputs": [
    {
     "name": "stdout",
     "output_type": "stream",
     "text": [
      "Accuracy = 81.0725% (2540/3133) (classification)\n",
      "Accuracy = 79.3103% (828/1044) (classification)\n"
     ]
    }
   ],
   "source": [
    "print('Next we train with the best C=C* and d=d* but different training set size\\n');\n",
    "groups = 10;\n",
    "bestcd_train_error = np.zeros([groups,1])\n",
    "bestcd_test_error = np.zeros([groups,1])\n",
    "length = len(x_train)\n",
    "\n",
    "for g in range(groups):\n",
    "    # Get a fraction of the training data\n",
    "    x_train_matrix, x_test_matrix = x_train[:length*(g+1)//10], x_test\n",
    "    # Train on the whole training data\n",
    "    model = svm_train(y_train[:length*(g+1)//10], x_train_matrix, \" -c %s -t %s -d %s \" % (best_C, _t, best_d))\n",
    "    # Test on the training and testing data\n",
    "    train_predy, train_stats, train_predval = svm_predict(y_train[:length*(g+1)//10], x_train_matrix, model)\n",
    "    test_predy, test_stats, test_predval = svm_predict(y_test, x_test_matrix, model)\n",
    "    clear_output(wait=True)\n",
    "    # Get the metrics\n",
    "    bestcd_train_error[g] = train_stats[1]\n",
    "    bestcd_test_error[g] = test_stats[1]"
   ]
  },
  {
   "cell_type": "code",
   "execution_count": 14,
   "metadata": {},
   "outputs": [
    {
     "name": "stdout",
     "output_type": "stream",
     "text": [
      "[[0.12779553]\n",
      " [0.14536741]\n",
      " [0.15654952]\n",
      " [0.16839585]\n",
      " [0.17496807]\n",
      " [0.19105907]\n",
      " [0.19060648]\n",
      " [0.18076616]\n",
      " [0.18552678]\n",
      " [0.18927545]]\n",
      "[[0.2816092 ]\n",
      " [0.31704981]\n",
      " [0.27203065]\n",
      " [0.20689655]\n",
      " [0.19827586]\n",
      " [0.20881226]\n",
      " [0.21264368]\n",
      " [0.20019157]\n",
      " [0.21264368]\n",
      " [0.20689655]]\n"
     ]
    }
   ],
   "source": [
    "print(bestcd_train_error)\n",
    "print(bestcd_test_error)"
   ]
  },
  {
   "cell_type": "markdown",
   "metadata": {},
   "source": [
    "# Visualization"
   ]
  },
  {
   "cell_type": "code",
   "execution_count": 15,
   "metadata": {},
   "outputs": [
    {
     "data": {
      "image/png": "[encoded data removed]",
      "text/plain": [
       "<Figure size 432x288 with 1 Axes>"
      ]
     },
     "metadata": {
      "needs_background": "light"
     },
     "output_type": "display_data"
    }
   ],
   "source": [
    "fig, ax = plt.subplots()\n",
    "for d in range(1, poly_d+1):\n",
    "    ax.errorbar(range(-log3c_range, log3c_range+1), train_cverror_mean[d-1],\n",
    "            yerr=train_cverror_std[d-1],\n",
    "            fmt='-o',\n",
    "            label=str(d))\n",
    "ax.set_xlabel('log3C (Cost)')\n",
    "ax.set_ylabel('5fold cross validation train error')\n",
    "ax.set_title('Question 3')\n",
    "ax.legend()\n",
    "plt.show();\n",
    "fig.savefig('Question 3.png')"
   ]
  },
  {
   "cell_type": "code",
   "execution_count": 16,
   "metadata": {},
   "outputs": [
    {
     "data": {
      "image/png": "[encoded data removed]",
      "text/plain": [
       "<Figure size 432x288 with 2 Axes>"
      ]
     },
     "metadata": {
      "needs_background": "light"
     },
     "output_type": "display_data"
    }
   ],
   "source": [
    "fig, ax1 = plt.subplots()\n",
    "ax2 = ax1.twinx()\n",
    "lns1 = ax1.plot(range(1,poly_d+1),bestc_train_cverror,label='train_error')\n",
    "lns2 = ax1.plot(range(1,poly_d+1),bestc_test_error,label='test_error')\n",
    "lns3 = ax2.plot(range(1, poly_d+1), sv_num,'-r',label='num of SV')\n",
    "ax1.set_xlabel('d (degree of kernel)')\n",
    "ax1.set_ylabel('Error')\n",
    "ax2.set_ylabel('# of SVs')\n",
    "ax1.set_title('Question 4')\n",
    "lns = lns1+lns2+lns3\n",
    "labs = [l.get_label() for l in lns]\n",
    "ax1.legend(lns, labs,loc=0)\n",
    "plt.show()\n",
    "fig.savefig('Question 4.png');"
   ]
  },
  {
   "cell_type": "code",
   "execution_count": 17,
   "metadata": {},
   "outputs": [
    {
     "data": {
      "image/png": "[encoded data removed]",
      "text/plain": [
       "<Figure size 432x288 with 1 Axes>"
      ]
     },
     "metadata": {
      "needs_background": "light"
     },
     "output_type": "display_data"
    },
    {
     "data": {
      "text/plain": [
       "<Figure size 432x288 with 0 Axes>"
      ]
     },
     "metadata": {},
     "output_type": "display_data"
    }
   ],
   "source": [
    "plt.plot(np.arange(10,110,10),bestcd_train_error,label='Train_error')\n",
    "plt.plot(np.arange(10,110,10),bestcd_test_error,label='Test_error')\n",
    "plt.xlabel('Fraction of Training data');\n",
    "plt.ylabel('Error')\n",
    "plt.title('Question 5')\n",
    "plt.legend()\n",
    "plt.show()\n",
    "plt.savefig('Question 5.png')"
   ]
  },
  {
   "cell_type": "markdown",
   "metadata": {},
   "source": [
    "## Question 6\n",
    "To be done..."
   ]
  },
  {
   "cell_type": "code",
   "execution_count": null,
   "metadata": {},
   "outputs": [],
   "source": []
  }
 ],
 "metadata": {
  "kernelspec": {
   "display_name": "Python 3",
   "language": "python",
   "name": "python3"
  },
  "language_info": {
   "codemirror_mode": {
    "name": "ipython",
    "version": 3
   },
   "file_extension": ".py",
   "mimetype": "text/x-python",
   "name": "python",
   "nbconvert_exporter": "python",
   "pygments_lexer": "ipython3",
   "version": "3.8.3"
  }
 },
 "nbformat": 4,
 "nbformat_minor": 4
}
